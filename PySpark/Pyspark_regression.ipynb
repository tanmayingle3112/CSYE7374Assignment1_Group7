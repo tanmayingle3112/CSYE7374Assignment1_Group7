{
 "cells": [
  {
   "cell_type": "code",
   "execution_count": 1,
   "metadata": {
    "collapsed": false
   },
   "outputs": [],
   "source": [
    "from pyspark import SparkConf, SparkContext\n",
    "from pyspark.mllib.regression import LabeledPoint, LinearRegressionWithSGD,RidgeRegressionWithSGD, LassoWithSGD\n",
    "from numpy import array\n",
    "\n",
    "sc = SparkContext(appName=\"Regressionof\")"
   ]
  },
  {
   "cell_type": "code",
   "execution_count": 2,
   "metadata": {
    "collapsed": true
   },
   "outputs": [],
   "source": [
    "data = sc.textFile(\"D://NEU - Big Data and Intelligent Analytics/Assignment 1/winequality-white -regression-parsed.csv\")\n"
   ]
  },
  {
   "cell_type": "code",
   "execution_count": 3,
   "metadata": {
    "collapsed": false
   },
   "outputs": [],
   "source": [
    "#def parsePoint(line):\n",
    " #   values = [float(x) for x in line.replace(';', ' ').split(' ')]\n",
    "  #  return LabeledPoint(values[11], values[:10])\n",
    "\n",
    "def line_to_fields(line):\n",
    "    space_separated_line = line.replace(',', ' ')\n",
    "    string_array = space_separated_line.split(' ')\n",
    "    float_array = map(float, string_array)\n",
    "    return LabeledPoint(float_array[11], float_array[:10])\n"
   ]
  },
  {
   "cell_type": "code",
   "execution_count": 4,
   "metadata": {
    "collapsed": true
   },
   "outputs": [],
   "source": [
    "parsedData = data.map(line_to_fields)"
   ]
  },
  {
   "cell_type": "code",
   "execution_count": 5,
   "metadata": {
    "collapsed": true
   },
   "outputs": [],
   "source": [
    "#Spliting data into training and test data\n",
    "(trainingData, testData) = parsedData.randomSplit([0.7, 0.3])"
   ]
  },
  {
   "cell_type": "code",
   "execution_count": 6,
   "metadata": {
    "collapsed": false
   },
   "outputs": [],
   "source": [
    "# Build the model\n",
    "model_linear = LinearRegressionWithSGD.train(trainingData, iterations=250, step=0.0005)"
   ]
  },
  {
   "cell_type": "code",
   "execution_count": 7,
   "metadata": {
    "collapsed": true
   },
   "outputs": [],
   "source": [
    "# Evaluate the model on training data\n",
    "valuesAndPreds =  trainingData.map(lambda p: (p.label, model_linear.predict(p.features)))\n",
    "                                      "
   ]
  },
  {
   "cell_type": "code",
   "execution_count": 8,
   "metadata": {
    "collapsed": true
   },
   "outputs": [],
   "source": [
    "# Evaluate the model on test data\n",
    "valuesAndPreds1 =  testData.map(lambda p: (p.label, model_linear.predict(p.features)))\n",
    "                                      "
   ]
  },
  {
   "cell_type": "code",
   "execution_count": 9,
   "metadata": {
    "collapsed": false
   },
   "outputs": [],
   "source": [
    "MSE = valuesAndPreds.map(lambda (v, p): (v - p)**2).reduce(lambda x, y: x + y) / valuesAndPreds.count()"
   ]
  },
  {
   "cell_type": "code",
   "execution_count": 10,
   "metadata": {
    "collapsed": false
   },
   "outputs": [
    {
     "name": "stdout",
     "output_type": "stream",
     "text": [
      "Root Mean Squared Error for training = 3.36922620677\n"
     ]
    }
   ],
   "source": [
    "print(\"Root Mean Squared Error for training = \" + str(MSE**0.5))"
   ]
  },
  {
   "cell_type": "code",
   "execution_count": 11,
   "metadata": {
    "collapsed": false
   },
   "outputs": [],
   "source": [
    "MSE1 = valuesAndPreds1.map(lambda (v, p): (v - p)**2).reduce(lambda x, y: x + y) / valuesAndPreds1.count()"
   ]
  },
  {
   "cell_type": "code",
   "execution_count": 12,
   "metadata": {
    "collapsed": false
   },
   "outputs": [
    {
     "name": "stdout",
     "output_type": "stream",
     "text": [
      "Root Mean Squared Error for test = 3.23831221739\n"
     ]
    }
   ],
   "source": [
    "print(\"Root Mean Squared Error for test = \" + str(MSE1**0.5))"
   ]
  },
  {
   "cell_type": "code",
   "execution_count": null,
   "metadata": {
    "collapsed": true
   },
   "outputs": [],
   "source": []
  },
  {
   "cell_type": "code",
   "execution_count": 13,
   "metadata": {
    "collapsed": false
   },
   "outputs": [],
   "source": [
    "#Build Ridge model\n",
    "model_ridge = RidgeRegressionWithSGD.train(trainingData,iterations=250,step=0.0005)"
   ]
  },
  {
   "cell_type": "code",
   "execution_count": 14,
   "metadata": {
    "collapsed": true
   },
   "outputs": [],
   "source": [
    "# Evaluate the model on training data\n",
    "valuesAndPreds =  trainingData.map(lambda p: (p.label, model_ridge.predict(p.features)))\n",
    "# Evaluate the model on test data\n",
    "valuesAndPreds1 =  testData.map(lambda p: (p.label, model_ridge.predict(p.features)))\n",
    "                                      "
   ]
  },
  {
   "cell_type": "code",
   "execution_count": 15,
   "metadata": {
    "collapsed": false
   },
   "outputs": [
    {
     "name": "stdout",
     "output_type": "stream",
     "text": [
      "Root Mean Squared Error for training = 3.36925875301\n",
      "Root Mean Squared Error for test = 3.23834369662\n"
     ]
    }
   ],
   "source": [
    "MSE = valuesAndPreds.map(lambda (v, p): (v - p)**2).reduce(lambda x, y: x + y) / valuesAndPreds.count()\n",
    "MSE1 = valuesAndPreds1.map(lambda (v, p): (v - p)**2).reduce(lambda x, y: x + y) / valuesAndPreds1.count()\n",
    "print(\"Root Mean Squared Error for training = \" + str(MSE**0.5))\n",
    "print(\"Root Mean Squared Error for test = \" + str(MSE1**0.5))"
   ]
  },
  {
   "cell_type": "code",
   "execution_count": null,
   "metadata": {
    "collapsed": true
   },
   "outputs": [],
   "source": []
  },
  {
   "cell_type": "code",
   "execution_count": 16,
   "metadata": {
    "collapsed": false
   },
   "outputs": [],
   "source": [
    "#Build Lasso Model\n",
    "model_lasso = LassoWithSGD.train(trainingData,iterations=250,step=0.0005)"
   ]
  },
  {
   "cell_type": "code",
   "execution_count": 17,
   "metadata": {
    "collapsed": true
   },
   "outputs": [],
   "source": [
    "# Evaluate the model on training data\n",
    "valuesAndPreds =  trainingData.map(lambda p: (p.label, model_lasso.predict(p.features)))\n",
    "# Evaluate the model on test data\n",
    "valuesAndPreds1 =  testData.map(lambda p: (p.label, model_lasso.predict(p.features)))"
   ]
  },
  {
   "cell_type": "code",
   "execution_count": 18,
   "metadata": {
    "collapsed": false
   },
   "outputs": [
    {
     "name": "stdout",
     "output_type": "stream",
     "text": [
      "Root Mean Squared Error for training = 3.36962965432\n",
      "Root Mean Squared Error for test = 3.23869244485\n"
     ]
    }
   ],
   "source": [
    "MSE = valuesAndPreds.map(lambda (v, p): (v - p)**2).reduce(lambda x, y: x + y) / valuesAndPreds.count()\n",
    "MSE1 = valuesAndPreds1.map(lambda (v, p): (v - p)**2).reduce(lambda x, y: x + y) / valuesAndPreds1.count()\n",
    "print(\"Root Mean Squared Error for training = \" + str(MSE**0.5))\n",
    "print(\"Root Mean Squared Error for test = \" + str(MSE1**0.5))"
   ]
  },
  {
   "cell_type": "code",
   "execution_count": 19,
   "metadata": {
    "collapsed": true
   },
   "outputs": [],
   "source": [
    "sc.stop()"
   ]
  },
  {
   "cell_type": "code",
   "execution_count": null,
   "metadata": {
    "collapsed": true
   },
   "outputs": [],
   "source": []
  }
 ],
 "metadata": {
  "kernelspec": {
   "display_name": "Python 2",
   "language": "python",
   "name": "python2"
  },
  "language_info": {
   "codemirror_mode": {
    "name": "ipython",
    "version": 2
   },
   "file_extension": ".py",
   "mimetype": "text/x-python",
   "name": "python",
   "nbconvert_exporter": "python",
   "pygments_lexer": "ipython2",
   "version": "2.7.9"
  }
 },
 "nbformat": 4,
 "nbformat_minor": 0
}
