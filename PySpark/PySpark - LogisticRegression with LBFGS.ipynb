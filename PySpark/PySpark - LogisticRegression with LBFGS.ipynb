{
 "cells": [
  {
   "cell_type": "code",
   "execution_count": 1,
   "metadata": {
    "collapsed": false
   },
   "outputs": [],
   "source": [
    "from pyspark import SparkConf, SparkContext\n",
    "from pyspark.mllib.regression import LabeledPoint\n",
    "from sklearn import metrics\n",
    "from numpy import array\n",
    "import numpy as np\n",
    "from sklearn.metrics import roc_auc_score\n",
    "from sklearn.metrics import average_precision_score\n",
    "from sklearn.metrics import confusion_matrix\n",
    "from pyspark.mllib.classification import LogisticRegressionWithLBFGS, LogisticRegressionModel\n",
    "sc = SparkContext(appName=\"ClassificationOfWineDataset\")"
   ]
  },
  {
   "cell_type": "code",
   "execution_count": 2,
   "metadata": {
    "collapsed": true
   },
   "outputs": [],
   "source": [
    "#getting data\n",
    "data = sc.textFile(\"D://NEU - Big Data and Intelligent Analytics/Assignment 1/winequality-white-classification-parsed format.csv\")"
   ]
  },
  {
   "cell_type": "code",
   "execution_count": 3,
   "metadata": {
    "collapsed": true
   },
   "outputs": [],
   "source": [
    "def line_to_field(line):\n",
    "    #space_separated_line = line.replace(';', ' ')\n",
    "    string_array = line.split(',')\n",
    "    #float_array = map(float, string_array)\n",
    "    #float_array[11] = np.where(float_array[10] > 5.0, 1, 0)\n",
    "    #float_array[11]=(float_array[10] > 5) \n",
    "    return LabeledPoint(string_array[0], string_array[1].split(' '))\n"
   ]
  },
  {
   "cell_type": "code",
   "execution_count": 4,
   "metadata": {
    "collapsed": true
   },
   "outputs": [],
   "source": [
    "parsedData = data.map(line_to_field)"
   ]
  },
  {
   "cell_type": "code",
   "execution_count": null,
   "metadata": {
    "collapsed": false
   },
   "outputs": [],
   "source": []
  },
  {
   "cell_type": "code",
   "execution_count": 5,
   "metadata": {
    "collapsed": true
   },
   "outputs": [],
   "source": [
    "#Spliting data into training and test data\n",
    "(training, test) = parsedData.randomSplit([0.7, 0.3])"
   ]
  },
  {
   "cell_type": "code",
   "execution_count": 16,
   "metadata": {
    "collapsed": false
   },
   "outputs": [],
   "source": [
    "# Build the model\n",
    "model = LogisticRegressionWithLBFGS.train(training, iterations=200,regParam= 0.1)"
   ]
  },
  {
   "cell_type": "code",
   "execution_count": 17,
   "metadata": {
    "collapsed": false
   },
   "outputs": [
    {
     "name": "stdout",
     "output_type": "stream",
     "text": [
      "Accuracy(training) = 0.790935672515\n"
     ]
    }
   ],
   "source": [
    "# Evaluating the model on training data\n",
    "labelsAndPreds = training.map(lambda p: (p.label, model.predict(p.features))).cache()\n",
    "accuracy_training = labelsAndPreds.filter(lambda (v, p): v == p).count() / float(training.count())\n",
    "print(\"Accuracy(training) = \" + str(accuracy_training))\n",
    "x = np.array(labelsAndPreds.collect())"
   ]
  },
  {
   "cell_type": "code",
   "execution_count": 18,
   "metadata": {
    "collapsed": false
   },
   "outputs": [
    {
     "name": "stdout",
     "output_type": "stream",
     "text": [
      "Accuracy(test) = 0.791610284168\n"
     ]
    }
   ],
   "source": [
    "# Evaluating the model on test data\n",
    "labelsAndPreds1 = test.map(lambda p: (p.label, model.predict(p.features))).cache()\n",
    "accuracy_test = labelsAndPreds1.filter(lambda (v, p): v == p).count() / float(test.count())\n",
    "print(\"Accuracy(test) = \" + str(accuracy_test))\n",
    "y = np.array(labelsAndPreds1.collect())"
   ]
  },
  {
   "cell_type": "code",
   "execution_count": 19,
   "metadata": {
    "collapsed": true
   },
   "outputs": [],
   "source": [
    "#clearing the threshold for getting scores as prediction.\n",
    "model.clearThreshold()"
   ]
  },
  {
   "cell_type": "code",
   "execution_count": 20,
   "metadata": {
    "collapsed": false
   },
   "outputs": [
    {
     "name": "stdout",
     "output_type": "stream",
     "text": [
      "Training Area under curve  = 0.778800235262\n",
      "Training Area under Precision-Recall = 0.506326363269\n"
     ]
    }
   ],
   "source": [
    "#making an array of true lables and its predicted scores for training data\n",
    "scoreandlabels = np.array(training.map(lambda p: (p.label, model.predict(p.features))).collect())\n",
    "print \"Training Area under curve  = \" + str(roc_auc_score(scoreandlabels[:,0],scoreandlabels[:,1]))\n",
    "print \"Training Area under Precision-Recall = \" + str(average_precision_score(scoreandlabels[:,0],scoreandlabels[:,1]))"
   ]
  },
  {
   "cell_type": "code",
   "execution_count": 21,
   "metadata": {
    "collapsed": false
   },
   "outputs": [
    {
     "name": "stdout",
     "output_type": "stream",
     "text": [
      "Test Area under curve  = 0.771498264378\n",
      "Test Area under Precision-Recall = 0.50243791689\n"
     ]
    }
   ],
   "source": [
    "#making an array of true lables and its predicted scores for test data\n",
    "scoreandlabels1 = np.array(test.map(lambda p: (p.label, model.predict(p.features))).collect())\n",
    "print \"Test Area under curve  = \" + str(roc_auc_score(scoreandlabels1[:,0],scoreandlabels1[:,1]))\n",
    "print \"Test Area under Precision-Recall = \" + str(average_precision_score(scoreandlabels1[:,0],scoreandlabels1[:,1]))"
   ]
  },
  {
   "cell_type": "code",
   "execution_count": null,
   "metadata": {
    "collapsed": true
   },
   "outputs": [],
   "source": []
  },
  {
   "cell_type": "code",
   "execution_count": 22,
   "metadata": {
    "collapsed": false
   },
   "outputs": [
    {
     "data": {
      "text/plain": [
       "array([[2673,   10],\n",
       "       [ 705,   32]])"
      ]
     },
     "execution_count": 22,
     "metadata": {},
     "output_type": "execute_result"
    }
   ],
   "source": [
    "#Making confusion matrix for training data\n",
    "confusion_matrix(x[:,0],x[:,1])"
   ]
  },
  {
   "cell_type": "code",
   "execution_count": null,
   "metadata": {
    "collapsed": true
   },
   "outputs": [],
   "source": []
  },
  {
   "cell_type": "code",
   "execution_count": 23,
   "metadata": {
    "collapsed": false
   },
   "outputs": [
    {
     "data": {
      "text/plain": [
       "array([[1152,    3],\n",
       "       [ 305,   18]])"
      ]
     },
     "execution_count": 23,
     "metadata": {},
     "output_type": "execute_result"
    }
   ],
   "source": [
    "#Making confusion matrix for test data\n",
    "confusion_matrix(y[:,0],y[:,1])"
   ]
  },
  {
   "cell_type": "code",
   "execution_count": 24,
   "metadata": {
    "collapsed": false
   },
   "outputs": [
    {
     "data": {
      "text/plain": [
       "DenseVector([-0.0258, -1.2606, -0.1319, -0.0015, -10.0896, 0.0054, -0.0028, -6.7387, 0.5621, 0.4034, 0.4302])"
      ]
     },
     "execution_count": 24,
     "metadata": {},
     "output_type": "execute_result"
    }
   ],
   "source": [
    "#checking the weights for the various features\n",
    "model.weights"
   ]
  },
  {
   "cell_type": "code",
   "execution_count": 220,
   "metadata": {
    "collapsed": true
   },
   "outputs": [],
   "source": [
    "sc.stop()"
   ]
  },
  {
   "cell_type": "code",
   "execution_count": null,
   "metadata": {
    "collapsed": true
   },
   "outputs": [],
   "source": []
  }
 ],
 "metadata": {
  "kernelspec": {
   "display_name": "Python 2",
   "language": "python",
   "name": "python2"
  },
  "language_info": {
   "codemirror_mode": {
    "name": "ipython",
    "version": 2
   },
   "file_extension": ".py",
   "mimetype": "text/x-python",
   "name": "python",
   "nbconvert_exporter": "python",
   "pygments_lexer": "ipython2",
   "version": "2.7.9"
  }
 },
 "nbformat": 4,
 "nbformat_minor": 0
}
